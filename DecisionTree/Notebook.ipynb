{
 "cells": [
  {
   "cell_type": "markdown",
   "metadata": {},
   "source": [
    "# DecisionTree Classifier\n",
    "This notebooks presents the decision tree classifier implemented in this repo."
   ]
  },
  {
   "cell_type": "code",
   "execution_count": 1,
   "metadata": {},
   "outputs": [],
   "source": [
    "import numpy as np\n",
    "import pandas as pd"
   ]
  },
  {
   "cell_type": "code",
   "execution_count": 2,
   "metadata": {},
   "outputs": [],
   "source": [
    "from MyDecisionTree import build_tree"
   ]
  },
  {
   "cell_type": "code",
   "execution_count": null,
   "metadata": {},
   "outputs": [],
   "source": []
  },
  {
   "cell_type": "markdown",
   "metadata": {},
   "source": [
    "## Datasets\n",
    "Some standard datasets are loaded in order to test the algorithm."
   ]
  },
  {
   "cell_type": "code",
   "execution_count": 3,
   "metadata": {},
   "outputs": [
    {
     "data": {
      "text/html": [
       "<div>\n",
       "<style scoped>\n",
       "    .dataframe tbody tr th:only-of-type {\n",
       "        vertical-align: middle;\n",
       "    }\n",
       "\n",
       "    .dataframe tbody tr th {\n",
       "        vertical-align: top;\n",
       "    }\n",
       "\n",
       "    .dataframe thead th {\n",
       "        text-align: right;\n",
       "    }\n",
       "</style>\n",
       "<table border=\"1\" class=\"dataframe\">\n",
       "  <thead>\n",
       "    <tr style=\"text-align: right;\">\n",
       "      <th></th>\n",
       "      <th>sepal_length</th>\n",
       "      <th>sepal_width</th>\n",
       "      <th>petal_length</th>\n",
       "      <th>petal_width</th>\n",
       "      <th>species</th>\n",
       "    </tr>\n",
       "  </thead>\n",
       "  <tbody>\n",
       "    <tr>\n",
       "      <td>0</td>\n",
       "      <td>5.1</td>\n",
       "      <td>3.5</td>\n",
       "      <td>1.4</td>\n",
       "      <td>0.2</td>\n",
       "      <td>setosa</td>\n",
       "    </tr>\n",
       "    <tr>\n",
       "      <td>1</td>\n",
       "      <td>4.9</td>\n",
       "      <td>3.0</td>\n",
       "      <td>1.4</td>\n",
       "      <td>0.2</td>\n",
       "      <td>setosa</td>\n",
       "    </tr>\n",
       "    <tr>\n",
       "      <td>2</td>\n",
       "      <td>4.7</td>\n",
       "      <td>3.2</td>\n",
       "      <td>1.3</td>\n",
       "      <td>0.2</td>\n",
       "      <td>setosa</td>\n",
       "    </tr>\n",
       "    <tr>\n",
       "      <td>3</td>\n",
       "      <td>4.6</td>\n",
       "      <td>3.1</td>\n",
       "      <td>1.5</td>\n",
       "      <td>0.2</td>\n",
       "      <td>setosa</td>\n",
       "    </tr>\n",
       "    <tr>\n",
       "      <td>4</td>\n",
       "      <td>5.0</td>\n",
       "      <td>3.6</td>\n",
       "      <td>1.4</td>\n",
       "      <td>0.2</td>\n",
       "      <td>setosa</td>\n",
       "    </tr>\n",
       "  </tbody>\n",
       "</table>\n",
       "</div>"
      ],
      "text/plain": [
       "   sepal_length  sepal_width  petal_length  petal_width species\n",
       "0           5.1          3.5           1.4          0.2  setosa\n",
       "1           4.9          3.0           1.4          0.2  setosa\n",
       "2           4.7          3.2           1.3          0.2  setosa\n",
       "3           4.6          3.1           1.5          0.2  setosa\n",
       "4           5.0          3.6           1.4          0.2  setosa"
      ]
     },
     "execution_count": 3,
     "metadata": {},
     "output_type": "execute_result"
    }
   ],
   "source": [
    "iris_df = pd.read_csv('https://raw.githubusercontent.com/mwaskom/seaborn-data/master/iris.csv')\n",
    "iris_df.head()"
   ]
  },
  {
   "cell_type": "code",
   "execution_count": 4,
   "metadata": {},
   "outputs": [
    {
     "data": {
      "text/html": [
       "<div>\n",
       "<style scoped>\n",
       "    .dataframe tbody tr th:only-of-type {\n",
       "        vertical-align: middle;\n",
       "    }\n",
       "\n",
       "    .dataframe tbody tr th {\n",
       "        vertical-align: top;\n",
       "    }\n",
       "\n",
       "    .dataframe thead th {\n",
       "        text-align: right;\n",
       "    }\n",
       "</style>\n",
       "<table border=\"1\" class=\"dataframe\">\n",
       "  <thead>\n",
       "    <tr style=\"text-align: right;\">\n",
       "      <th></th>\n",
       "      <th>mpg</th>\n",
       "      <th>cylinders</th>\n",
       "      <th>displacement</th>\n",
       "      <th>horsepower</th>\n",
       "      <th>weight</th>\n",
       "      <th>acceleration</th>\n",
       "      <th>model_year</th>\n",
       "      <th>origin</th>\n",
       "      <th>name</th>\n",
       "    </tr>\n",
       "  </thead>\n",
       "  <tbody>\n",
       "    <tr>\n",
       "      <td>0</td>\n",
       "      <td>18.0</td>\n",
       "      <td>8</td>\n",
       "      <td>307.0</td>\n",
       "      <td>130.0</td>\n",
       "      <td>3504</td>\n",
       "      <td>12.0</td>\n",
       "      <td>70</td>\n",
       "      <td>usa</td>\n",
       "      <td>chevrolet chevelle malibu</td>\n",
       "    </tr>\n",
       "    <tr>\n",
       "      <td>1</td>\n",
       "      <td>15.0</td>\n",
       "      <td>8</td>\n",
       "      <td>350.0</td>\n",
       "      <td>165.0</td>\n",
       "      <td>3693</td>\n",
       "      <td>11.5</td>\n",
       "      <td>70</td>\n",
       "      <td>usa</td>\n",
       "      <td>buick skylark 320</td>\n",
       "    </tr>\n",
       "    <tr>\n",
       "      <td>2</td>\n",
       "      <td>18.0</td>\n",
       "      <td>8</td>\n",
       "      <td>318.0</td>\n",
       "      <td>150.0</td>\n",
       "      <td>3436</td>\n",
       "      <td>11.0</td>\n",
       "      <td>70</td>\n",
       "      <td>usa</td>\n",
       "      <td>plymouth satellite</td>\n",
       "    </tr>\n",
       "    <tr>\n",
       "      <td>3</td>\n",
       "      <td>16.0</td>\n",
       "      <td>8</td>\n",
       "      <td>304.0</td>\n",
       "      <td>150.0</td>\n",
       "      <td>3433</td>\n",
       "      <td>12.0</td>\n",
       "      <td>70</td>\n",
       "      <td>usa</td>\n",
       "      <td>amc rebel sst</td>\n",
       "    </tr>\n",
       "    <tr>\n",
       "      <td>4</td>\n",
       "      <td>17.0</td>\n",
       "      <td>8</td>\n",
       "      <td>302.0</td>\n",
       "      <td>140.0</td>\n",
       "      <td>3449</td>\n",
       "      <td>10.5</td>\n",
       "      <td>70</td>\n",
       "      <td>usa</td>\n",
       "      <td>ford torino</td>\n",
       "    </tr>\n",
       "  </tbody>\n",
       "</table>\n",
       "</div>"
      ],
      "text/plain": [
       "    mpg  cylinders  displacement  horsepower  weight  acceleration  \\\n",
       "0  18.0          8         307.0       130.0    3504          12.0   \n",
       "1  15.0          8         350.0       165.0    3693          11.5   \n",
       "2  18.0          8         318.0       150.0    3436          11.0   \n",
       "3  16.0          8         304.0       150.0    3433          12.0   \n",
       "4  17.0          8         302.0       140.0    3449          10.5   \n",
       "\n",
       "   model_year origin                       name  \n",
       "0          70    usa  chevrolet chevelle malibu  \n",
       "1          70    usa          buick skylark 320  \n",
       "2          70    usa         plymouth satellite  \n",
       "3          70    usa              amc rebel sst  \n",
       "4          70    usa                ford torino  "
      ]
     },
     "execution_count": 4,
     "metadata": {},
     "output_type": "execute_result"
    }
   ],
   "source": [
    "mpg_df = pd.read_csv('https://raw.githubusercontent.com/mwaskom/seaborn-data/master/mpg.csv')\n",
    "mpg_df.head()"
   ]
  },
  {
   "cell_type": "code",
   "execution_count": 5,
   "metadata": {},
   "outputs": [
    {
     "data": {
      "text/html": [
       "<div>\n",
       "<style scoped>\n",
       "    .dataframe tbody tr th:only-of-type {\n",
       "        vertical-align: middle;\n",
       "    }\n",
       "\n",
       "    .dataframe tbody tr th {\n",
       "        vertical-align: top;\n",
       "    }\n",
       "\n",
       "    .dataframe thead th {\n",
       "        text-align: right;\n",
       "    }\n",
       "</style>\n",
       "<table border=\"1\" class=\"dataframe\">\n",
       "  <thead>\n",
       "    <tr style=\"text-align: right;\">\n",
       "      <th></th>\n",
       "      <th>year</th>\n",
       "      <th>month</th>\n",
       "      <th>passengers</th>\n",
       "    </tr>\n",
       "  </thead>\n",
       "  <tbody>\n",
       "    <tr>\n",
       "      <td>0</td>\n",
       "      <td>1949</td>\n",
       "      <td>January</td>\n",
       "      <td>112</td>\n",
       "    </tr>\n",
       "    <tr>\n",
       "      <td>1</td>\n",
       "      <td>1949</td>\n",
       "      <td>February</td>\n",
       "      <td>118</td>\n",
       "    </tr>\n",
       "    <tr>\n",
       "      <td>2</td>\n",
       "      <td>1949</td>\n",
       "      <td>March</td>\n",
       "      <td>132</td>\n",
       "    </tr>\n",
       "    <tr>\n",
       "      <td>3</td>\n",
       "      <td>1949</td>\n",
       "      <td>April</td>\n",
       "      <td>129</td>\n",
       "    </tr>\n",
       "    <tr>\n",
       "      <td>4</td>\n",
       "      <td>1949</td>\n",
       "      <td>May</td>\n",
       "      <td>121</td>\n",
       "    </tr>\n",
       "  </tbody>\n",
       "</table>\n",
       "</div>"
      ],
      "text/plain": [
       "   year     month  passengers\n",
       "0  1949   January         112\n",
       "1  1949  February         118\n",
       "2  1949     March         132\n",
       "3  1949     April         129\n",
       "4  1949       May         121"
      ]
     },
     "execution_count": 5,
     "metadata": {},
     "output_type": "execute_result"
    }
   ],
   "source": [
    "flights_df = pd.read_csv('https://raw.githubusercontent.com/mwaskom/seaborn-data/master/flights.csv')\n",
    "flights_df.head()"
   ]
  },
  {
   "cell_type": "code",
   "execution_count": null,
   "metadata": {},
   "outputs": [],
   "source": []
  },
  {
   "cell_type": "code",
   "execution_count": 6,
   "metadata": {},
   "outputs": [],
   "source": [
    "# Here I perform the shuffling since some datasets are arranged by labels\n",
    "\n",
    "iris_df = iris_df.sample(frac=1).reset_index(drop=True)\n",
    "mpg_df = mpg_df.sample(frac=1).reset_index(drop=True)[:150]\n",
    "flights_df = flights_df.sample(frac=1).reset_index(drop=True)"
   ]
  },
  {
   "cell_type": "markdown",
   "metadata": {},
   "source": [
    "## Splitting Train and Test sets\n"
   ]
  },
  {
   "cell_type": "code",
   "execution_count": 7,
   "metadata": {},
   "outputs": [],
   "source": [
    "train_test_ratio = 0.8"
   ]
  },
  {
   "cell_type": "code",
   "execution_count": 8,
   "metadata": {},
   "outputs": [
    {
     "name": "stdout",
     "output_type": "stream",
     "text": [
      "N iris samples for train: 120; N iris samples for testing: 30\n"
     ]
    }
   ],
   "source": [
    "n_train_iris = int(train_test_ratio*len(iris_df))\n",
    "train_iris_df, test_iris_df = iris_df[:n_train_iris], iris_df[n_train_iris:]\n",
    "\n",
    "print(f\"N iris samples for train: {len(train_iris_df)}; N iris samples for testing: {len(test_iris_df)}\")"
   ]
  },
  {
   "cell_type": "code",
   "execution_count": 9,
   "metadata": {},
   "outputs": [
    {
     "name": "stdout",
     "output_type": "stream",
     "text": [
      "N mpg samples for train: 120; N mpg samples for testing: 30\n"
     ]
    }
   ],
   "source": [
    "n_train_mpg = int(train_test_ratio*len(mpg_df))\n",
    "train_mpg_df, test_mpg_df = mpg_df[:n_train_mpg], mpg_df[n_train_mpg:]\n",
    "\n",
    "print(f\"N mpg samples for train: {len(train_mpg_df)}; N mpg samples for testing: {len(test_mpg_df)}\")"
   ]
  },
  {
   "cell_type": "code",
   "execution_count": 10,
   "metadata": {},
   "outputs": [
    {
     "name": "stdout",
     "output_type": "stream",
     "text": [
      "N flights samples for train: 115; N flights samples for testing: 29\n"
     ]
    }
   ],
   "source": [
    "n_train_flights = int(train_test_ratio*len(flights_df))\n",
    "train_flights_df, test_flights_df = flights_df[:n_train_flights], flights_df[n_train_flights:]\n",
    "\n",
    "print(f\"N flights samples for train: {len(train_flights_df)}; N flights samples for testing: {len(test_flights_df)}\")"
   ]
  },
  {
   "cell_type": "code",
   "execution_count": 11,
   "metadata": {},
   "outputs": [],
   "source": [
    "iris_label, mpg_label, flights_label = \"species\", \"mpg\", \"passengers\""
   ]
  },
  {
   "cell_type": "code",
   "execution_count": null,
   "metadata": {},
   "outputs": [],
   "source": []
  },
  {
   "cell_type": "code",
   "execution_count": 12,
   "metadata": {},
   "outputs": [],
   "source": [
    "iris_feature_cols = list(iris_df.columns)\n",
    "iris_feature_cols.remove(iris_label)\n",
    "\n",
    "mpg_feature_cols = list(train_mpg_df.columns)\n",
    "mpg_feature_cols.remove(mpg_label)\n",
    "\n",
    "flights_feature_cols = list(flights_df.columns)\n",
    "flights_feature_cols.remove(flights_label)"
   ]
  },
  {
   "cell_type": "code",
   "execution_count": null,
   "metadata": {},
   "outputs": [],
   "source": []
  },
  {
   "cell_type": "markdown",
   "metadata": {},
   "source": [
    "## Building The Tree\n",
    "The module is very straightforward to use: it is sufficient to call the `build_tree` function, and to pass a dataframe containing the dataset as a first argument and the name of the column that contains the labels as a second argument. The function will return a `Node` object that is the root of the tree."
   ]
  },
  {
   "cell_type": "code",
   "execution_count": 13,
   "metadata": {},
   "outputs": [
    {
     "name": "stdout",
     "output_type": "stream",
     "text": [
      "CPU times: user 2.39 s, sys: 13.4 ms, total: 2.41 s\n",
      "Wall time: 2.39 s\n"
     ]
    }
   ],
   "source": [
    "%%time\n",
    "iris_tree = build_tree(train_iris_df, iris_label)"
   ]
  },
  {
   "cell_type": "code",
   "execution_count": 14,
   "metadata": {},
   "outputs": [
    {
     "name": "stdout",
     "output_type": "stream",
     "text": [
      "CPU times: user 33.5 s, sys: 21.8 ms, total: 33.5 s\n",
      "Wall time: 33.5 s\n"
     ]
    }
   ],
   "source": [
    "%%time\n",
    "mpg_tree = build_tree(train_mpg_df, mpg_label)"
   ]
  },
  {
   "cell_type": "code",
   "execution_count": 15,
   "metadata": {},
   "outputs": [
    {
     "name": "stdout",
     "output_type": "stream",
     "text": [
      "CPU times: user 5.75 s, sys: 7.88 ms, total: 5.75 s\n",
      "Wall time: 5.75 s\n"
     ]
    }
   ],
   "source": [
    "%%time\n",
    "flights_tree = build_tree(train_flights_df, flights_label)"
   ]
  },
  {
   "cell_type": "code",
   "execution_count": null,
   "metadata": {},
   "outputs": [],
   "source": []
  },
  {
   "cell_type": "markdown",
   "metadata": {},
   "source": [
    "## Making Predictions on Training Set\n",
    "In order to make predictions, once a tree has been built, it is sufficient to call the `predict` method, passing as argument a dataframe containing the rows one wants to get predictions for. For each input row, the method will return the predicted class as well as the value of gini impurity associated with the node that led to that prediction."
   ]
  },
  {
   "cell_type": "code",
   "execution_count": 16,
   "metadata": {},
   "outputs": [
    {
     "data": {
      "text/html": [
       "<div>\n",
       "<style scoped>\n",
       "    .dataframe tbody tr th:only-of-type {\n",
       "        vertical-align: middle;\n",
       "    }\n",
       "\n",
       "    .dataframe tbody tr th {\n",
       "        vertical-align: top;\n",
       "    }\n",
       "\n",
       "    .dataframe thead th {\n",
       "        text-align: right;\n",
       "    }\n",
       "</style>\n",
       "<table border=\"1\" class=\"dataframe\">\n",
       "  <thead>\n",
       "    <tr style=\"text-align: right;\">\n",
       "      <th></th>\n",
       "      <th>sepal_length</th>\n",
       "      <th>sepal_width</th>\n",
       "      <th>petal_length</th>\n",
       "      <th>petal_width</th>\n",
       "      <th>species</th>\n",
       "    </tr>\n",
       "  </thead>\n",
       "  <tbody>\n",
       "    <tr>\n",
       "      <td>0</td>\n",
       "      <td>4.4</td>\n",
       "      <td>3.2</td>\n",
       "      <td>1.3</td>\n",
       "      <td>0.2</td>\n",
       "      <td>setosa</td>\n",
       "    </tr>\n",
       "    <tr>\n",
       "      <td>1</td>\n",
       "      <td>5.7</td>\n",
       "      <td>2.6</td>\n",
       "      <td>3.5</td>\n",
       "      <td>1.0</td>\n",
       "      <td>versicolor</td>\n",
       "    </tr>\n",
       "    <tr>\n",
       "      <td>2</td>\n",
       "      <td>4.6</td>\n",
       "      <td>3.1</td>\n",
       "      <td>1.5</td>\n",
       "      <td>0.2</td>\n",
       "      <td>setosa</td>\n",
       "    </tr>\n",
       "    <tr>\n",
       "      <td>3</td>\n",
       "      <td>7.0</td>\n",
       "      <td>3.2</td>\n",
       "      <td>4.7</td>\n",
       "      <td>1.4</td>\n",
       "      <td>versicolor</td>\n",
       "    </tr>\n",
       "    <tr>\n",
       "      <td>4</td>\n",
       "      <td>6.7</td>\n",
       "      <td>3.1</td>\n",
       "      <td>4.4</td>\n",
       "      <td>1.4</td>\n",
       "      <td>versicolor</td>\n",
       "    </tr>\n",
       "  </tbody>\n",
       "</table>\n",
       "</div>"
      ],
      "text/plain": [
       "   sepal_length  sepal_width  petal_length  petal_width     species\n",
       "0           4.4          3.2           1.3          0.2      setosa\n",
       "1           5.7          2.6           3.5          1.0  versicolor\n",
       "2           4.6          3.1           1.5          0.2      setosa\n",
       "3           7.0          3.2           4.7          1.4  versicolor\n",
       "4           6.7          3.1           4.4          1.4  versicolor"
      ]
     },
     "execution_count": 16,
     "metadata": {},
     "output_type": "execute_result"
    }
   ],
   "source": [
    "train_iris_df.head(5)"
   ]
  },
  {
   "cell_type": "code",
   "execution_count": 17,
   "metadata": {},
   "outputs": [
    {
     "data": {
      "text/plain": [
       "[('setosa', 0.0),\n",
       " ('versicolor', 0.0),\n",
       " ('setosa', 0.0),\n",
       " ('versicolor', 0.0),\n",
       " ('versicolor', 0.0)]"
      ]
     },
     "execution_count": 17,
     "metadata": {},
     "output_type": "execute_result"
    }
   ],
   "source": [
    "iris_tree.predict(train_iris_df[iris_feature_cols].head(5))"
   ]
  },
  {
   "cell_type": "code",
   "execution_count": 18,
   "metadata": {},
   "outputs": [
    {
     "data": {
      "text/html": [
       "<div>\n",
       "<style scoped>\n",
       "    .dataframe tbody tr th:only-of-type {\n",
       "        vertical-align: middle;\n",
       "    }\n",
       "\n",
       "    .dataframe tbody tr th {\n",
       "        vertical-align: top;\n",
       "    }\n",
       "\n",
       "    .dataframe thead th {\n",
       "        text-align: right;\n",
       "    }\n",
       "</style>\n",
       "<table border=\"1\" class=\"dataframe\">\n",
       "  <thead>\n",
       "    <tr style=\"text-align: right;\">\n",
       "      <th></th>\n",
       "      <th>mpg</th>\n",
       "      <th>cylinders</th>\n",
       "      <th>displacement</th>\n",
       "      <th>horsepower</th>\n",
       "      <th>weight</th>\n",
       "      <th>acceleration</th>\n",
       "      <th>model_year</th>\n",
       "      <th>origin</th>\n",
       "      <th>name</th>\n",
       "    </tr>\n",
       "  </thead>\n",
       "  <tbody>\n",
       "    <tr>\n",
       "      <td>0</td>\n",
       "      <td>19.2</td>\n",
       "      <td>8</td>\n",
       "      <td>267.0</td>\n",
       "      <td>125.0</td>\n",
       "      <td>3605</td>\n",
       "      <td>15.0</td>\n",
       "      <td>79</td>\n",
       "      <td>usa</td>\n",
       "      <td>chevrolet malibu classic (sw)</td>\n",
       "    </tr>\n",
       "    <tr>\n",
       "      <td>1</td>\n",
       "      <td>19.2</td>\n",
       "      <td>8</td>\n",
       "      <td>305.0</td>\n",
       "      <td>145.0</td>\n",
       "      <td>3425</td>\n",
       "      <td>13.2</td>\n",
       "      <td>78</td>\n",
       "      <td>usa</td>\n",
       "      <td>chevrolet monte carlo landau</td>\n",
       "    </tr>\n",
       "    <tr>\n",
       "      <td>2</td>\n",
       "      <td>18.0</td>\n",
       "      <td>6</td>\n",
       "      <td>225.0</td>\n",
       "      <td>95.0</td>\n",
       "      <td>3785</td>\n",
       "      <td>19.0</td>\n",
       "      <td>75</td>\n",
       "      <td>usa</td>\n",
       "      <td>plymouth fury</td>\n",
       "    </tr>\n",
       "    <tr>\n",
       "      <td>3</td>\n",
       "      <td>21.0</td>\n",
       "      <td>4</td>\n",
       "      <td>122.0</td>\n",
       "      <td>86.0</td>\n",
       "      <td>2226</td>\n",
       "      <td>16.5</td>\n",
       "      <td>72</td>\n",
       "      <td>usa</td>\n",
       "      <td>ford pinto runabout</td>\n",
       "    </tr>\n",
       "    <tr>\n",
       "      <td>4</td>\n",
       "      <td>31.0</td>\n",
       "      <td>4</td>\n",
       "      <td>112.0</td>\n",
       "      <td>85.0</td>\n",
       "      <td>2575</td>\n",
       "      <td>16.2</td>\n",
       "      <td>82</td>\n",
       "      <td>usa</td>\n",
       "      <td>pontiac j2000 se hatchback</td>\n",
       "    </tr>\n",
       "  </tbody>\n",
       "</table>\n",
       "</div>"
      ],
      "text/plain": [
       "    mpg  cylinders  displacement  horsepower  weight  acceleration  \\\n",
       "0  19.2          8         267.0       125.0    3605          15.0   \n",
       "1  19.2          8         305.0       145.0    3425          13.2   \n",
       "2  18.0          6         225.0        95.0    3785          19.0   \n",
       "3  21.0          4         122.0        86.0    2226          16.5   \n",
       "4  31.0          4         112.0        85.0    2575          16.2   \n",
       "\n",
       "   model_year origin                           name  \n",
       "0          79    usa  chevrolet malibu classic (sw)  \n",
       "1          78    usa   chevrolet monte carlo landau  \n",
       "2          75    usa                  plymouth fury  \n",
       "3          72    usa            ford pinto runabout  \n",
       "4          82    usa     pontiac j2000 se hatchback  "
      ]
     },
     "execution_count": 18,
     "metadata": {},
     "output_type": "execute_result"
    }
   ],
   "source": [
    "train_mpg_df.head(5)"
   ]
  },
  {
   "cell_type": "code",
   "execution_count": 19,
   "metadata": {},
   "outputs": [
    {
     "data": {
      "text/plain": [
       "[(19.2, 0.0), (19.2, 0.0), (18.0, 0.0), (21.0, 0.0), (31.0, 0.0)]"
      ]
     },
     "execution_count": 19,
     "metadata": {},
     "output_type": "execute_result"
    }
   ],
   "source": [
    "mpg_tree.predict(train_mpg_df[mpg_feature_cols].head(5))"
   ]
  },
  {
   "cell_type": "code",
   "execution_count": 20,
   "metadata": {},
   "outputs": [
    {
     "data": {
      "text/html": [
       "<div>\n",
       "<style scoped>\n",
       "    .dataframe tbody tr th:only-of-type {\n",
       "        vertical-align: middle;\n",
       "    }\n",
       "\n",
       "    .dataframe tbody tr th {\n",
       "        vertical-align: top;\n",
       "    }\n",
       "\n",
       "    .dataframe thead th {\n",
       "        text-align: right;\n",
       "    }\n",
       "</style>\n",
       "<table border=\"1\" class=\"dataframe\">\n",
       "  <thead>\n",
       "    <tr style=\"text-align: right;\">\n",
       "      <th></th>\n",
       "      <th>year</th>\n",
       "      <th>month</th>\n",
       "      <th>passengers</th>\n",
       "    </tr>\n",
       "  </thead>\n",
       "  <tbody>\n",
       "    <tr>\n",
       "      <td>0</td>\n",
       "      <td>1952</td>\n",
       "      <td>May</td>\n",
       "      <td>183</td>\n",
       "    </tr>\n",
       "    <tr>\n",
       "      <td>1</td>\n",
       "      <td>1950</td>\n",
       "      <td>August</td>\n",
       "      <td>170</td>\n",
       "    </tr>\n",
       "    <tr>\n",
       "      <td>2</td>\n",
       "      <td>1951</td>\n",
       "      <td>June</td>\n",
       "      <td>178</td>\n",
       "    </tr>\n",
       "    <tr>\n",
       "      <td>3</td>\n",
       "      <td>1959</td>\n",
       "      <td>December</td>\n",
       "      <td>405</td>\n",
       "    </tr>\n",
       "    <tr>\n",
       "      <td>4</td>\n",
       "      <td>1957</td>\n",
       "      <td>June</td>\n",
       "      <td>422</td>\n",
       "    </tr>\n",
       "  </tbody>\n",
       "</table>\n",
       "</div>"
      ],
      "text/plain": [
       "   year     month  passengers\n",
       "0  1952       May         183\n",
       "1  1950    August         170\n",
       "2  1951      June         178\n",
       "3  1959  December         405\n",
       "4  1957      June         422"
      ]
     },
     "execution_count": 20,
     "metadata": {},
     "output_type": "execute_result"
    }
   ],
   "source": [
    "train_flights_df.head(5)"
   ]
  },
  {
   "cell_type": "code",
   "execution_count": 21,
   "metadata": {},
   "outputs": [
    {
     "data": {
      "text/plain": [
       "[(183, 0.0), (170, 0.0), (178, 0.0), (405, 0.0), (422, 0.0)]"
      ]
     },
     "execution_count": 21,
     "metadata": {},
     "output_type": "execute_result"
    }
   ],
   "source": [
    "flights_tree.predict(flights_df[flights_feature_cols].head(5))"
   ]
  },
  {
   "cell_type": "code",
   "execution_count": null,
   "metadata": {},
   "outputs": [],
   "source": []
  },
  {
   "cell_type": "markdown",
   "metadata": {},
   "source": [
    "## Making Predictions on the Test Set"
   ]
  },
  {
   "cell_type": "code",
   "execution_count": 22,
   "metadata": {},
   "outputs": [
    {
     "data": {
      "text/html": [
       "<div>\n",
       "<style scoped>\n",
       "    .dataframe tbody tr th:only-of-type {\n",
       "        vertical-align: middle;\n",
       "    }\n",
       "\n",
       "    .dataframe tbody tr th {\n",
       "        vertical-align: top;\n",
       "    }\n",
       "\n",
       "    .dataframe thead th {\n",
       "        text-align: right;\n",
       "    }\n",
       "</style>\n",
       "<table border=\"1\" class=\"dataframe\">\n",
       "  <thead>\n",
       "    <tr style=\"text-align: right;\">\n",
       "      <th></th>\n",
       "      <th>sepal_length</th>\n",
       "      <th>sepal_width</th>\n",
       "      <th>petal_length</th>\n",
       "      <th>petal_width</th>\n",
       "      <th>species</th>\n",
       "    </tr>\n",
       "  </thead>\n",
       "  <tbody>\n",
       "    <tr>\n",
       "      <td>120</td>\n",
       "      <td>5.0</td>\n",
       "      <td>3.5</td>\n",
       "      <td>1.6</td>\n",
       "      <td>0.6</td>\n",
       "      <td>setosa</td>\n",
       "    </tr>\n",
       "    <tr>\n",
       "      <td>121</td>\n",
       "      <td>5.7</td>\n",
       "      <td>2.9</td>\n",
       "      <td>4.2</td>\n",
       "      <td>1.3</td>\n",
       "      <td>versicolor</td>\n",
       "    </tr>\n",
       "    <tr>\n",
       "      <td>122</td>\n",
       "      <td>6.6</td>\n",
       "      <td>3.0</td>\n",
       "      <td>4.4</td>\n",
       "      <td>1.4</td>\n",
       "      <td>versicolor</td>\n",
       "    </tr>\n",
       "    <tr>\n",
       "      <td>123</td>\n",
       "      <td>5.5</td>\n",
       "      <td>2.6</td>\n",
       "      <td>4.4</td>\n",
       "      <td>1.2</td>\n",
       "      <td>versicolor</td>\n",
       "    </tr>\n",
       "    <tr>\n",
       "      <td>124</td>\n",
       "      <td>4.6</td>\n",
       "      <td>3.4</td>\n",
       "      <td>1.4</td>\n",
       "      <td>0.3</td>\n",
       "      <td>setosa</td>\n",
       "    </tr>\n",
       "  </tbody>\n",
       "</table>\n",
       "</div>"
      ],
      "text/plain": [
       "     sepal_length  sepal_width  petal_length  petal_width     species\n",
       "120           5.0          3.5           1.6          0.6      setosa\n",
       "121           5.7          2.9           4.2          1.3  versicolor\n",
       "122           6.6          3.0           4.4          1.4  versicolor\n",
       "123           5.5          2.6           4.4          1.2  versicolor\n",
       "124           4.6          3.4           1.4          0.3      setosa"
      ]
     },
     "execution_count": 22,
     "metadata": {},
     "output_type": "execute_result"
    }
   ],
   "source": [
    "test_iris_df.head(5)"
   ]
  },
  {
   "cell_type": "code",
   "execution_count": 23,
   "metadata": {},
   "outputs": [
    {
     "data": {
      "text/plain": [
       "[('virginica', 0.0),\n",
       " ('versicolor', 0.0),\n",
       " ('versicolor', 0.0),\n",
       " ('versicolor', 0.0),\n",
       " ('setosa', 0.0)]"
      ]
     },
     "execution_count": 23,
     "metadata": {},
     "output_type": "execute_result"
    }
   ],
   "source": [
    "iris_tree.predict(test_iris_df[iris_feature_cols].head(5))"
   ]
  },
  {
   "cell_type": "code",
   "execution_count": 24,
   "metadata": {},
   "outputs": [
    {
     "data": {
      "text/html": [
       "<div>\n",
       "<style scoped>\n",
       "    .dataframe tbody tr th:only-of-type {\n",
       "        vertical-align: middle;\n",
       "    }\n",
       "\n",
       "    .dataframe tbody tr th {\n",
       "        vertical-align: top;\n",
       "    }\n",
       "\n",
       "    .dataframe thead th {\n",
       "        text-align: right;\n",
       "    }\n",
       "</style>\n",
       "<table border=\"1\" class=\"dataframe\">\n",
       "  <thead>\n",
       "    <tr style=\"text-align: right;\">\n",
       "      <th></th>\n",
       "      <th>mpg</th>\n",
       "      <th>cylinders</th>\n",
       "      <th>displacement</th>\n",
       "      <th>horsepower</th>\n",
       "      <th>weight</th>\n",
       "      <th>acceleration</th>\n",
       "      <th>model_year</th>\n",
       "      <th>origin</th>\n",
       "      <th>name</th>\n",
       "    </tr>\n",
       "  </thead>\n",
       "  <tbody>\n",
       "    <tr>\n",
       "      <td>120</td>\n",
       "      <td>23.2</td>\n",
       "      <td>4</td>\n",
       "      <td>156.0</td>\n",
       "      <td>105.0</td>\n",
       "      <td>2745</td>\n",
       "      <td>16.7</td>\n",
       "      <td>78</td>\n",
       "      <td>usa</td>\n",
       "      <td>plymouth sapporo</td>\n",
       "    </tr>\n",
       "    <tr>\n",
       "      <td>121</td>\n",
       "      <td>28.0</td>\n",
       "      <td>4</td>\n",
       "      <td>116.0</td>\n",
       "      <td>90.0</td>\n",
       "      <td>2123</td>\n",
       "      <td>14.0</td>\n",
       "      <td>71</td>\n",
       "      <td>europe</td>\n",
       "      <td>opel 1900</td>\n",
       "    </tr>\n",
       "    <tr>\n",
       "      <td>122</td>\n",
       "      <td>17.0</td>\n",
       "      <td>8</td>\n",
       "      <td>260.0</td>\n",
       "      <td>110.0</td>\n",
       "      <td>4060</td>\n",
       "      <td>19.0</td>\n",
       "      <td>77</td>\n",
       "      <td>usa</td>\n",
       "      <td>oldsmobile cutlass supreme</td>\n",
       "    </tr>\n",
       "    <tr>\n",
       "      <td>123</td>\n",
       "      <td>26.0</td>\n",
       "      <td>4</td>\n",
       "      <td>97.0</td>\n",
       "      <td>78.0</td>\n",
       "      <td>2300</td>\n",
       "      <td>14.5</td>\n",
       "      <td>74</td>\n",
       "      <td>europe</td>\n",
       "      <td>opel manta</td>\n",
       "    </tr>\n",
       "    <tr>\n",
       "      <td>124</td>\n",
       "      <td>25.5</td>\n",
       "      <td>4</td>\n",
       "      <td>140.0</td>\n",
       "      <td>89.0</td>\n",
       "      <td>2755</td>\n",
       "      <td>15.8</td>\n",
       "      <td>77</td>\n",
       "      <td>usa</td>\n",
       "      <td>ford mustang ii 2+2</td>\n",
       "    </tr>\n",
       "  </tbody>\n",
       "</table>\n",
       "</div>"
      ],
      "text/plain": [
       "      mpg  cylinders  displacement  horsepower  weight  acceleration  \\\n",
       "120  23.2          4         156.0       105.0    2745          16.7   \n",
       "121  28.0          4         116.0        90.0    2123          14.0   \n",
       "122  17.0          8         260.0       110.0    4060          19.0   \n",
       "123  26.0          4          97.0        78.0    2300          14.5   \n",
       "124  25.5          4         140.0        89.0    2755          15.8   \n",
       "\n",
       "     model_year  origin                        name  \n",
       "120          78     usa            plymouth sapporo  \n",
       "121          71  europe                   opel 1900  \n",
       "122          77     usa  oldsmobile cutlass supreme  \n",
       "123          74  europe                  opel manta  \n",
       "124          77     usa         ford mustang ii 2+2  "
      ]
     },
     "execution_count": 24,
     "metadata": {},
     "output_type": "execute_result"
    }
   ],
   "source": [
    "test_mpg_df.head(5)"
   ]
  },
  {
   "cell_type": "code",
   "execution_count": 25,
   "metadata": {},
   "outputs": [
    {
     "data": {
      "text/plain": [
       "[(23.8, 0.0), (28.0, 0.0), (13.0, 0.0), (31.0, 0.0), (24.5, 0.0)]"
      ]
     },
     "execution_count": 25,
     "metadata": {},
     "output_type": "execute_result"
    }
   ],
   "source": [
    "mpg_tree.predict(test_mpg_df[mpg_feature_cols].head(5))"
   ]
  },
  {
   "cell_type": "code",
   "execution_count": 26,
   "metadata": {},
   "outputs": [
    {
     "data": {
      "text/html": [
       "<div>\n",
       "<style scoped>\n",
       "    .dataframe tbody tr th:only-of-type {\n",
       "        vertical-align: middle;\n",
       "    }\n",
       "\n",
       "    .dataframe tbody tr th {\n",
       "        vertical-align: top;\n",
       "    }\n",
       "\n",
       "    .dataframe thead th {\n",
       "        text-align: right;\n",
       "    }\n",
       "</style>\n",
       "<table border=\"1\" class=\"dataframe\">\n",
       "  <thead>\n",
       "    <tr style=\"text-align: right;\">\n",
       "      <th></th>\n",
       "      <th>year</th>\n",
       "      <th>month</th>\n",
       "      <th>passengers</th>\n",
       "    </tr>\n",
       "  </thead>\n",
       "  <tbody>\n",
       "    <tr>\n",
       "      <td>115</td>\n",
       "      <td>1949</td>\n",
       "      <td>June</td>\n",
       "      <td>135</td>\n",
       "    </tr>\n",
       "    <tr>\n",
       "      <td>116</td>\n",
       "      <td>1952</td>\n",
       "      <td>January</td>\n",
       "      <td>171</td>\n",
       "    </tr>\n",
       "    <tr>\n",
       "      <td>117</td>\n",
       "      <td>1957</td>\n",
       "      <td>September</td>\n",
       "      <td>404</td>\n",
       "    </tr>\n",
       "    <tr>\n",
       "      <td>118</td>\n",
       "      <td>1954</td>\n",
       "      <td>May</td>\n",
       "      <td>234</td>\n",
       "    </tr>\n",
       "    <tr>\n",
       "      <td>119</td>\n",
       "      <td>1960</td>\n",
       "      <td>March</td>\n",
       "      <td>419</td>\n",
       "    </tr>\n",
       "  </tbody>\n",
       "</table>\n",
       "</div>"
      ],
      "text/plain": [
       "     year      month  passengers\n",
       "115  1949       June         135\n",
       "116  1952    January         171\n",
       "117  1957  September         404\n",
       "118  1954        May         234\n",
       "119  1960      March         419"
      ]
     },
     "execution_count": 26,
     "metadata": {},
     "output_type": "execute_result"
    }
   ],
   "source": [
    "test_flights_df.head(5)"
   ]
  },
  {
   "cell_type": "code",
   "execution_count": 27,
   "metadata": {},
   "outputs": [
    {
     "data": {
      "text/plain": [
       "[(118, 0.0), (242, 0.0), (463, 0.0), (229, 0.0), (406, 0.0)]"
      ]
     },
     "execution_count": 27,
     "metadata": {},
     "output_type": "execute_result"
    }
   ],
   "source": [
    "flights_tree.predict(test_flights_df[flights_feature_cols].head(5))"
   ]
  },
  {
   "cell_type": "code",
   "execution_count": null,
   "metadata": {},
   "outputs": [],
   "source": []
  },
  {
   "cell_type": "markdown",
   "metadata": {},
   "source": [
    "## Evaluating Accuracy on Train and Test Set"
   ]
  },
  {
   "cell_type": "code",
   "execution_count": 28,
   "metadata": {},
   "outputs": [
    {
     "name": "stdout",
     "output_type": "stream",
     "text": [
      "Iris train accuracy: 100.0%\n"
     ]
    }
   ],
   "source": [
    "iris_train_predictions = np.array(iris_tree.predict(train_iris_df[iris_feature_cols]))\n",
    "iris_train_accuracy = sum(iris_train_predictions[:, 0] == train_iris_df[iris_label])/len(train_iris_df)\n",
    "\n",
    "print(f\"Iris train accuracy: {round(iris_train_accuracy*100, 3)}%\")"
   ]
  },
  {
   "cell_type": "code",
   "execution_count": 29,
   "metadata": {},
   "outputs": [
    {
     "name": "stdout",
     "output_type": "stream",
     "text": [
      "Iris test accuracy: 86.667%\n"
     ]
    }
   ],
   "source": [
    "iris_test_predictions = np.array(iris_tree.predict(test_iris_df[iris_feature_cols]))\n",
    "iris_test_accuracy = sum(iris_test_predictions[:, 0] == test_iris_df[iris_label])/len(test_iris_df)\n",
    "\n",
    "print(f\"Iris test accuracy: {round(iris_test_accuracy*100, 3)}%\")"
   ]
  },
  {
   "cell_type": "code",
   "execution_count": null,
   "metadata": {},
   "outputs": [],
   "source": []
  },
  {
   "cell_type": "code",
   "execution_count": 30,
   "metadata": {},
   "outputs": [
    {
     "name": "stdout",
     "output_type": "stream",
     "text": [
      "MPG train error (MSE): 0.0\n"
     ]
    }
   ],
   "source": [
    "mpg_train_predictions = np.array(mpg_tree.predict(train_mpg_df[mpg_feature_cols]))\n",
    "mpg_train_error = sum(mpg_train_predictions[:, 0] - train_mpg_df[mpg_label])**2/len(train_mpg_df)\n",
    "\n",
    "print(f\"MPG train error (MSE): {round(mpg_train_error, 3)}\")"
   ]
  },
  {
   "cell_type": "code",
   "execution_count": 31,
   "metadata": {},
   "outputs": [
    {
     "name": "stdout",
     "output_type": "stream",
     "text": [
      "MPG test error (MSE): 126.075\n"
     ]
    }
   ],
   "source": [
    "mpg_test_predictions = np.array(mpg_tree.predict(test_mpg_df[mpg_feature_cols]))\n",
    "mpg_test_error = sum(mpg_test_predictions[:, 0] - test_mpg_df[mpg_label])**2/len(test_mpg_df)\n",
    "\n",
    "print(f\"MPG test error (MSE): {round(mpg_test_error, 3)}\")"
   ]
  },
  {
   "cell_type": "code",
   "execution_count": null,
   "metadata": {},
   "outputs": [],
   "source": []
  },
  {
   "cell_type": "code",
   "execution_count": 32,
   "metadata": {},
   "outputs": [
    {
     "name": "stdout",
     "output_type": "stream",
     "text": [
      "Flights train error (MSE): 0.0\n"
     ]
    }
   ],
   "source": [
    "flights_train_predictions = np.array(flights_tree.predict(train_flights_df[flights_feature_cols]))\n",
    "flights_train_error = sum(flights_train_predictions[:, 0] - train_flights_df[flights_label])**2/len(train_flights_df)\n",
    "\n",
    "print(f\"Flights train error (MSE): {round(flights_train_error, 3)}\")"
   ]
  },
  {
   "cell_type": "code",
   "execution_count": 33,
   "metadata": {},
   "outputs": [
    {
     "name": "stdout",
     "output_type": "stream",
     "text": [
      "Flights test error (MSE): 31978.241\n"
     ]
    }
   ],
   "source": [
    "flights_test_predictions = np.array(flights_tree.predict(test_flights_df[flights_feature_cols]))\n",
    "flights_test_error = sum(flights_test_predictions[:, 0] - test_flights_df[flights_label])**2/len(test_flights_df)\n",
    "\n",
    "print(f\"Flights test error (MSE): {round(flights_test_error, 3)}\")"
   ]
  },
  {
   "cell_type": "code",
   "execution_count": null,
   "metadata": {},
   "outputs": [],
   "source": []
  },
  {
   "cell_type": "code",
   "execution_count": null,
   "metadata": {},
   "outputs": [],
   "source": []
  },
  {
   "cell_type": "markdown",
   "metadata": {},
   "source": [
    "## Visualising The Trees\n",
    "It is possible to have a visual representation of the tree by calling the `print_tree` method. For each non-leaf node, an attribute and a value are specified. These values are the ones selected by the algorithm to split the data, and, in particular, the left child of each node represents the data for which the value \"is attribute == value\" is True, and the right child represents the data for which that value is false."
   ]
  },
  {
   "cell_type": "code",
   "execution_count": 34,
   "metadata": {},
   "outputs": [
    {
     "name": "stdout",
     "output_type": "stream",
     "text": [
      " (R) attribute: petal_width value: 0.2 gini: 0.6640277777777779\n",
      "       (l) gini: 0.0 decision: setosa (Leaf)\n",
      "       (r) attribute: petal_width value: 0.4 gini: 0.6248121170077466\n",
      "             (l) gini: 0.0 decision: setosa (Leaf)\n",
      "             (r) attribute: petal_width value: 0.1 gini: 0.5849107625743646\n",
      "                   (l) gini: 0.0 decision: setosa (Leaf)\n",
      "                   (r) attribute: petal_width value: 0.3 gini: 0.541990550221003\n",
      "                         (l) gini: 0.0 decision: setosa (Leaf)\n",
      "                         (r) attribute: petal_width value: 1.3 gini: 0.49586776859504145\n",
      "                               (l) gini: 0.0 decision: versicolor (Leaf)\n",
      "                               (r) attribute: petal_width value: 1.0 gini: 0.4763705103969754\n",
      "                                     (l) gini: 0.0 decision: versicolor (Leaf)\n",
      "                                     (r) attribute: petal_width value: 1.5 gini: 0.4370447450572321\n",
      "                                           (l) attribute: petal_length value: 5.0 gini: 0.21875\n",
      "                                                 (l) gini: 0.0 decision: virginica (Leaf)\n",
      "                                                 (r) gini: 0.0 decision: versicolor (Leaf)\n",
      "                                           (r) attribute: petal_width value: 1.4 gini: 0.36556927297668035\n",
      "                                                 (l) attribute: sepal_width value: 2.6 gini: 0.2777777777777777\n",
      "                                                       (l) gini: 0.0 decision: virginica (Leaf)\n",
      "                                                       (r) gini: 0.0 decision: versicolor (Leaf)\n",
      "                                                 (r) attribute: petal_width value: 1.6 gini: 0.2777777777777777\n",
      "                                                       (l) attribute: sepal_length value: 7.2 gini: 0.375\n",
      "                                                             (l) gini: 0.0 decision: virginica (Leaf)\n",
      "                                                             (r) gini: 0.0 decision: versicolor (Leaf)\n",
      "                                                       (r) attribute: petal_width value: 1.2 gini: 0.2014462809917355\n",
      "                                                             (l) gini: 0.0 decision: versicolor (Leaf)\n",
      "                                                             (r) attribute: petal_width value: 1.1 gini: 0.13265306122448978\n",
      "                                                                   (l) gini: 0.0 decision: versicolor (Leaf)\n",
      "                                                                   (r) attribute: sepal_length value: 5.9 gini: 0.04875000000000006\n",
      "                                                                         (l) attribute: sepal_width value: 3.2 gini: 0.5\n",
      "                                                                               (l) gini: 0.0 decision: versicolor (Leaf)\n",
      "                                                                               (r) gini: 0.0 decision: virginica (Leaf)\n",
      "                                                                         (r) gini: 0.0 decision: virginica (Leaf)\n"
     ]
    }
   ],
   "source": [
    "iris_tree.print_tree()"
   ]
  },
  {
   "cell_type": "code",
   "execution_count": 35,
   "metadata": {},
   "outputs": [
    {
     "name": "stdout",
     "output_type": "stream",
     "text": [
      " (R) attribute: cylinders value: 8 gini: 0.974166666666666\n",
      "       (l) attribute: model_year value: 70 gini: 0.8750000000000002\n",
      "             (l) attribute: displacement value: 304.0 gini: 0.7199999999999999\n",
      "                   (l) gini: 0.0 decision: 9.0 (Leaf)\n",
      "                   (r) attribute: displacement value: 307.0 gini: 0.625\n",
      "                         (l) gini: 0.0 decision: 10.0 (Leaf)\n",
      "                         (r) attribute: displacement value: 440.0 gini: 0.4444444444444444\n",
      "                               (l) gini: 0.0 decision: 14.0 (Leaf)\n",
      "                               (r) gini: 0.0 decision: 15.0 (Leaf)\n",
      "             (r) attribute: horsepower value: 180.0 gini: 0.8511966701352757\n",
      "                   (l) attribute: weight value: 3664 gini: 0.4444444444444444\n",
      "                         (l) gini: 0.0 decision: 11.0 (Leaf)\n",
      "                         (r) gini: 0.0 decision: 12.0 (Leaf)\n",
      "                   (r) attribute: model_year value: 71 gini: 0.8418367346938774\n",
      "                         (l) gini: 0.0 decision: 14.0 (Leaf)\n",
      "                         (r) attribute: horsepower value: 145.0 gini: 0.8343195266272191\n",
      "                               (l) attribute: displacement value: 305.0 gini: 0.6666666666666665\n",
      "                                     (l) gini: 0.0 decision: 19.2 (Leaf)\n",
      "                                     (r) attribute: displacement value: 350.0 gini: 0.5\n",
      "                                           (l) gini: 0.0 decision: 15.0 (Leaf)\n",
      "                                           (r) gini: 0.0 decision: 15.5 (Leaf)\n",
      "                               (r) attribute: model_year value: 79 gini: 0.7977315689981096\n",
      "                                     (l) attribute: displacement value: 305.0 gini: 0.6666666666666665\n",
      "                                           (l) gini: 0.0 decision: 17.0 (Leaf)\n",
      "                                           (r) attribute: displacement value: 267.0 gini: 0.5\n",
      "                                                 (l) gini: 0.0 decision: 19.2 (Leaf)\n",
      "                                                 (r) gini: 0.0 decision: 18.2 (Leaf)\n",
      "                                     (r) attribute: weight value: 4215 gini: 0.7450000000000002\n",
      "                                           (l) attribute: displacement value: 305.0 gini: 0.5\n",
      "                                                 (l) gini: 0.0 decision: 17.5 (Leaf)\n",
      "                                                 (r) gini: 0.0 decision: 14.5 (Leaf)\n",
      "                                           (r) attribute: acceleration value: 11.5 gini: 0.691358024691358\n",
      "                                                 (l) attribute: displacement value: 304.0 gini: 0.6666666666666665\n",
      "                                                       (l) gini: 0.0 decision: 17.0 (Leaf)\n",
      "                                                       (r) attribute: displacement value: 400.0 gini: 0.5\n",
      "                                                             (l) gini: 0.0 decision: 16.0 (Leaf)\n",
      "                                                             (r) gini: 0.0 decision: 12.0 (Leaf)\n",
      "                                                 (r) attribute: horsepower value: 230.0 gini: 0.5955555555555555\n",
      "                                                       (l) gini: 0.0 decision: 16.0 (Leaf)\n",
      "                                                       (r) attribute: weight value: 4997 gini: 0.5408163265306122\n",
      "                                                             (l) gini: 0.0 decision: 11.0 (Leaf)\n",
      "                                                             (r) attribute: displacement value: 455.0 gini: 0.4733727810650888\n",
      "                                                                   (l) gini: 0.0 decision: 12.0 (Leaf)\n",
      "                                                                   (r) attribute: horsepower value: 167.0 gini: 0.4027777777777778\n",
      "                                                                         (l) gini: 0.0 decision: 12.0 (Leaf)\n",
      "                                                                         (r) attribute: displacement value: 351.0 gini: 0.2975206611570247\n",
      "                                                                               (l) gini: 0.0 decision: 14.0 (Leaf)\n",
      "                                                                               (r) attribute: horsepower value: 137.0 gini: 0.17999999999999994\n",
      "                                                                                     (l) gini: 0.0 decision: 14.0 (Leaf)\n",
      "                                                                                     (r) gini: 0.0 decision: 13.0 (Leaf)\n",
      "       (r) attribute: cylinders value: 4 gini: 0.9736394557823139\n",
      "             (l) attribute: horsepower value: 46.0 gini: 0.9637336504161707\n",
      "                   (l) gini: 0.0 decision: 26.0 (Leaf)\n",
      "                   (r) attribute: model_year value: 74 gini: 0.9649234693877539\n",
      "                         (l) attribute: displacement value: 98.0 gini: 0.6399999999999999\n",
      "                               (l) gini: 0.0 decision: 29.0 (Leaf)\n",
      "                               (r) attribute: displacement value: 116.0 gini: 0.5\n",
      "                                     (l) gini: 0.0 decision: 26.0 (Leaf)\n",
      "                                     (r) attribute: weight value: 1963 gini: 0.4444444444444444\n",
      "                                           (l) gini: 0.0 decision: 26.0 (Leaf)\n",
      "                                           (r) gini: 0.0 decision: 31.0 (Leaf)\n",
      "                         (r) attribute: acceleration value: 14.5 gini: 0.9634755863129562\n",
      "                               (l) attribute: horsepower value: 90.0 gini: 0.4444444444444444\n",
      "                                     (l) gini: 0.0 decision: 24.0 (Leaf)\n",
      "                                     (r) gini: 0.0 decision: 36.0 (Leaf)\n",
      "                               (r) attribute: model_year value: 72 gini: 0.9670138888888883\n",
      "                                     (l) attribute: displacement value: 97.0 gini: 0.7199999999999999\n",
      "                                           (l) gini: 0.0 decision: 23.0 (Leaf)\n",
      "                                           (r) attribute: weight value: 2395 gini: 0.625\n",
      "                                                 (l) gini: 0.0 decision: 22.0 (Leaf)\n",
      "                                                 (r) attribute: displacement value: 113.0 gini: 0.4444444444444444\n",
      "                                                       (l) gini: 0.0 decision: 24.0 (Leaf)\n",
      "                                                       (r) gini: 0.0 decision: 21.0 (Leaf)\n",
      "                                     (r) attribute: origin value: japan gini: 0.9670091941590044\n",
      "                                           (l) attribute: horsepower value: 67.0 gini: 0.9183673469387761\n",
      "                                                 (l) attribute: displacement value: 97.0 gini: 0.6666666666666665\n",
      "                                                       (l) gini: 0.0 decision: 30.0 (Leaf)\n",
      "                                                       (r) attribute: weight value: 1995 gini: 0.5\n",
      "                                                             (l) gini: 0.0 decision: 38.0 (Leaf)\n",
      "                                                             (r) gini: 0.0 decision: 32.0 (Leaf)\n",
      "                                                 (r) attribute: acceleration value: 17.0 gini: 0.8925619834710746\n",
      "                                                       (l) attribute: displacement value: 107.0 gini: 0.5\n",
      "                                                             (l) gini: 0.0 decision: 32.4 (Leaf)\n",
      "                                                             (r) gini: 0.0 decision: 24.0 (Leaf)\n",
      "                                                       (r) attribute: model_year value: 78 gini: 0.8641975308641971\n",
      "                                                             (l) attribute: displacement value: 98.0 gini: 0.5\n",
      "                                                                   (l) gini: 0.0 decision: 29.5 (Leaf)\n",
      "                                                                   (r) gini: 0.0 decision: 32.8 (Leaf)\n",
      "                                                             (r) attribute: model_year value: 81 gini: 0.8163265306122448\n",
      "                                                                   (l) attribute: displacement value: 120.0 gini: 0.5\n",
      "                                                                         (l) gini: 0.0 decision: 31.6 (Leaf)\n",
      "                                                                         (r) gini: 0.0 decision: 37.7 (Leaf)\n",
      "                                                                   (r) attribute: displacement value: 97.0 gini: 0.7199999999999999\n",
      "                                                                         (l) gini: 0.0 decision: 20.0 (Leaf)\n",
      "                                                                         (r) attribute: displacement value: 85.0 gini: 0.625\n",
      "                                                                               (l) gini: 0.0 decision: 31.8 (Leaf)\n",
      "                                                                               (r) attribute: displacement value: 134.0 gini: 0.4444444444444444\n",
      "                                                                                     (l) gini: 0.0 decision: 29.8 (Leaf)\n",
      "                                                                                     (r) gini: 0.0 decision: 37.0 (Leaf)\n",
      "                                           (r) attribute: model_year value: 82 gini: 0.9512485136741964\n",
      "                                                 (l) attribute: displacement value: 97.0 gini: 0.7777777777777778\n",
      "                                                       (l) gini: 0.0 decision: 44.0 (Leaf)\n",
      "                                                       (r) attribute: displacement value: 98.0 gini: 0.7199999999999999\n",
      "                                                             (l) gini: 0.0 decision: 36.0 (Leaf)\n",
      "                                                             (r) attribute: horsepower value: 85.0 gini: 0.625\n",
      "                                                                   (l) gini: 0.0 decision: 31.0 (Leaf)\n",
      "                                                                   (r) attribute: displacement value: 140.0 gini: 0.4444444444444444\n",
      "                                                                         (l) gini: 0.0 decision: 24.0 (Leaf)\n",
      "                                                                         (r) gini: 0.0 decision: 27.0 (Leaf)\n",
      "                                                 (r) attribute: model_year value: 80 gini: 0.9489603024574667\n",
      "                                                       (l) attribute: displacement value: 98.0 gini: 0.7999999999999998\n",
      "                                                             (l) attribute: horsepower value: 76.0 gini: 0.5\n",
      "                                                                   (l) gini: 0.0 decision: 41.5 (Leaf)\n",
      "                                                                   (r) gini: 0.0 decision: 32.1 (Leaf)\n",
      "                                                             (r) attribute: displacement value: 122.0 gini: 0.6666666666666665\n",
      "                                                                   (l) gini: 0.0 decision: 35.0 (Leaf)\n",
      "                                                                   (r) attribute: displacement value: 90.0 gini: 0.5\n",
      "                                                                         (l) gini: 0.0 decision: 44.3 (Leaf)\n",
      "                                                                         (r) gini: 0.0 decision: 27.9 (Leaf)\n",
      "                                                       (r) attribute: model_year value: 77 gini: 0.9320987654320985\n",
      "                                                             (l) attribute: displacement value: 97.0 gini: 0.75\n",
      "                                                                   (l) gini: 0.0 decision: 30.5 (Leaf)\n",
      "                                                                   (r) attribute: displacement value: 122.0 gini: 0.6666666666666665\n",
      "                                                                         (l) gini: 0.0 decision: 25.5 (Leaf)\n",
      "                                                                         (r) attribute: displacement value: 79.0 gini: 0.5\n",
      "                                                                               (l) gini: 0.0 decision: 36.0 (Leaf)\n",
      "                                                                               (r) gini: 0.0 decision: 24.5 (Leaf)\n",
      "                                                             (r) attribute: model_year value: 76 gini: 0.9081632653061229\n",
      "                                                                   (l) attribute: displacement value: 97.0 gini: 0.6666666666666665\n",
      "                                                                         (l) gini: 0.0 decision: 29.5 (Leaf)\n",
      "                                                                         (r) attribute: displacement value: 140.0 gini: 0.5\n",
      "                                                                               (l) gini: 0.0 decision: 25.0 (Leaf)\n",
      "                                                                               (r) gini: 0.0 decision: 27.0 (Leaf)\n",
      "                                                                   (r) attribute: model_year value: 78 gini: 0.8760330578512399\n",
      "                                                                         (l) attribute: displacement value: 90.0 gini: 0.6666666666666665\n",
      "                                                                               (l) gini: 0.0 decision: 43.1 (Leaf)\n",
      "                                                                               (r) attribute: displacement value: 140.0 gini: 0.5\n",
      "                                                                                     (l) gini: 0.0 decision: 25.1 (Leaf)\n",
      "                                                                                     (r) gini: 0.0 decision: 23.8 (Leaf)\n",
      "                                                                         (r) attribute: displacement value: 98.0 gini: 0.8125\n",
      "                                                                               (l) gini: 0.0 decision: 29.9 (Leaf)\n",
      "                                                                               (r) attribute: displacement value: 68.0 gini: 0.7755102040816326\n",
      "                                                                                     (l) gini: 0.0 decision: 29.0 (Leaf)\n",
      "                                                                                     (r) attribute: horsepower value: 88.0 gini: 0.7222222222222221\n",
      "                                                                                           (l) gini: 0.0 decision: 22.3 (Leaf)\n",
      "                                                                                           (r) attribute: horsepower value: 90.0 gini: 0.6399999999999999\n",
      "                                                                                                 (l) gini: 0.0 decision: 28.0 (Leaf)\n",
      "                                                                                                 (r) attribute: displacement value: 100.0 gini: 0.5\n",
      "                                                                                                       (l) gini: 0.0 decision: 34.5 (Leaf)\n",
      "                                                                                                       (r) attribute: displacement value: 105.0 gini: 0.4444444444444444\n",
      "                                                                                                             (l) gini: 0.0 decision: 34.5 (Leaf)\n",
      "                                                                                                             (r) gini: 0.0 decision: 23.0 (Leaf)\n",
      "             (r) attribute: horsepower value: 72.0 gini: 0.91715976331361\n",
      "                   (l) gini: 0.0 decision: 15.0 (Leaf)\n",
      "                   (r) attribute: acceleration value: 16.0 gini: 0.9097222222222215\n",
      "                         (l) gini: 0.0 decision: 19.0 (Leaf)\n",
      "                         (r) attribute: model_year value: 74 gini: 0.9256198347107432\n",
      "                               (l) attribute: displacement value: 200.0 gini: 0.4444444444444445\n",
      "                                     (l) gini: 0.0 decision: 21.0 (Leaf)\n",
      "                                     (r) gini: 0.0 decision: 16.0 (Leaf)\n",
      "                               (r) attribute: model_year value: 78 gini: 0.9141274238227151\n",
      "                                     (l) attribute: displacement value: 163.0 gini: 0.7999999999999998\n",
      "                                           (l) attribute: horsepower value: 125.0 gini: 0.5\n",
      "                                                 (l) gini: 0.0 decision: 17.0 (Leaf)\n",
      "                                                 (r) gini: 0.0 decision: 16.2 (Leaf)\n",
      "                                           (r) attribute: displacement value: 225.0 gini: 0.6666666666666665\n",
      "                                                 (l) gini: 0.0 decision: 20.5 (Leaf)\n",
      "                                                 (r) attribute: displacement value: 258.0 gini: 0.5\n",
      "                                                       (l) gini: 0.0 decision: 18.1 (Leaf)\n",
      "                                                       (r) gini: 0.0 decision: 17.7 (Leaf)\n",
      "                                     (r) attribute: origin value: usa gini: 0.8673469387755106\n",
      "                                           (l) attribute: horsepower value: 115.0 gini: 0.809917355371901\n",
      "                                                 (l) attribute: displacement value: 173.0 gini: 0.5\n",
      "                                                       (l) gini: 0.0 decision: 26.8 (Leaf)\n",
      "                                                       (r) gini: 0.0 decision: 21.5 (Leaf)\n",
      "                                                 (r) attribute: horsepower value: 98.0 gini: 0.7407407407407405\n",
      "                                                       (l) gini: 0.0 decision: 18.5 (Leaf)\n",
      "                                                       (r) attribute: horsepower value: 112.0 gini: 0.6875\n",
      "                                                             (l) gini: 0.0 decision: 22.0 (Leaf)\n",
      "                                                             (r) attribute: weight value: 3381 gini: 0.6122448979591837\n",
      "                                                                   (l) gini: 0.0 decision: 19.1 (Leaf)\n",
      "                                                                   (r) attribute: displacement value: 225.0 gini: 0.5\n",
      "                                                                         (l) gini: 0.0 decision: 18.0 (Leaf)\n",
      "                                                                         (r) attribute: weight value: 3139 gini: 0.48\n",
      "                                                                               (l) gini: 0.0 decision: 18.0 (Leaf)\n",
      "                                                                               (r) attribute: weight value: 2789 gini: 0.375\n",
      "                                                                                     (l) gini: 0.0 decision: 18.0 (Leaf)\n",
      "                                                                                     (r) gini: 0.0 decision: 19.0 (Leaf)\n",
      "                                           (r) attribute: displacement value: 168.0 gini: 0.6666666666666665\n",
      "                                                 (l) gini: 0.0 decision: 16.5 (Leaf)\n",
      "                                                 (r) attribute: displacement value: 146.0 gini: 0.5\n",
      "                                                       (l) gini: 0.0 decision: 24.2 (Leaf)\n",
      "                                                       (r) gini: 0.0 decision: 20.0 (Leaf)\n"
     ]
    }
   ],
   "source": [
    "mpg_tree.print_tree()"
   ]
  },
  {
   "cell_type": "code",
   "execution_count": 36,
   "metadata": {},
   "outputs": [
    {
     "name": "stdout",
     "output_type": "stream",
     "text": [
      " (R) attribute: year value: 1949 gini: 0.9882797731569024\n",
      "       (l) attribute: month value: November gini: 0.7222222222222221\n",
      "             (l) gini: 0.0 decision: 104 (Leaf)\n",
      "             (r) attribute: month value: March gini: 0.6399999999999999\n",
      "                   (l) gini: 0.0 decision: 132 (Leaf)\n",
      "                   (r) attribute: month value: July gini: 0.5\n",
      "                         (l) gini: 0.0 decision: 148 (Leaf)\n",
      "                         (r) attribute: month value: August gini: 0.4444444444444444\n",
      "                               (l) gini: 0.0 decision: 148 (Leaf)\n",
      "                               (r) gini: 0.0 decision: 118 (Leaf)\n",
      "       (r) attribute: year value: 1951 gini: 0.9877956400976363\n",
      "             (l) attribute: month value: January gini: 0.8599999999999999\n",
      "                   (l) gini: 0.0 decision: 145 (Leaf)\n",
      "                   (r) attribute: month value: November gini: 0.8395061728395059\n",
      "                         (l) gini: 0.0 decision: 146 (Leaf)\n",
      "                         (r) attribute: month value: October gini: 0.8125\n",
      "                               (l) gini: 0.0 decision: 162 (Leaf)\n",
      "                               (r) attribute: month value: December gini: 0.7755102040816326\n",
      "                                     (l) gini: 0.0 decision: 166 (Leaf)\n",
      "                                     (r) attribute: month value: May gini: 0.7222222222222221\n",
      "                                           (l) gini: 0.0 decision: 172 (Leaf)\n",
      "                                           (r) attribute: month value: February gini: 0.6399999999999999\n",
      "                                                 (l) gini: 0.0 decision: 150 (Leaf)\n",
      "                                                 (r) attribute: month value: June gini: 0.5\n",
      "                                                       (l) gini: 0.0 decision: 178 (Leaf)\n",
      "                                                       (r) attribute: month value: March gini: 0.4444444444444444\n",
      "                                                             (l) gini: 0.0 decision: 178 (Leaf)\n",
      "                                                             (r) gini: 0.0 decision: 199 (Leaf)\n",
      "             (r) attribute: month value: April gini: 0.9868380777471664\n",
      "                   (l) attribute: year value: 1952 gini: 0.84375\n",
      "                         (l) gini: 0.0 decision: 181 (Leaf)\n",
      "                         (r) attribute: year value: 1954 gini: 0.8163265306122448\n",
      "                               (l) gini: 0.0 decision: 227 (Leaf)\n",
      "                               (r) attribute: year value: 1955 gini: 0.7777777777777777\n",
      "                                     (l) gini: 0.0 decision: 269 (Leaf)\n",
      "                                     (r) attribute: year value: 1956 gini: 0.7199999999999999\n",
      "                                           (l) gini: 0.0 decision: 313 (Leaf)\n",
      "                                           (r) attribute: year value: 1960 gini: 0.625\n",
      "                                                 (l) gini: 0.0 decision: 461 (Leaf)\n",
      "                                                 (r) attribute: year value: 1959 gini: 0.4444444444444444\n",
      "                                                       (l) gini: 0.0 decision: 396 (Leaf)\n",
      "                                                       (r) gini: 0.0 decision: 348 (Leaf)\n",
      "                   (r) attribute: year value: 1950 gini: 0.9858712715855598\n",
      "                         (l) attribute: month value: November gini: 0.8641975308641971\n",
      "                               (l) gini: 0.0 decision: 114 (Leaf)\n",
      "                               (r) attribute: month value: January gini: 0.84375\n",
      "                                     (l) gini: 0.0 decision: 115 (Leaf)\n",
      "                                     (r) attribute: month value: March gini: 0.8163265306122448\n",
      "                                           (l) gini: 0.0 decision: 141 (Leaf)\n",
      "                                           (r) attribute: month value: December gini: 0.7777777777777777\n",
      "                                                 (l) gini: 0.0 decision: 140 (Leaf)\n",
      "                                                 (r) attribute: month value: May gini: 0.7199999999999999\n",
      "                                                       (l) gini: 0.0 decision: 125 (Leaf)\n",
      "                                                       (r) attribute: month value: February gini: 0.625\n",
      "                                                             (l) gini: 0.0 decision: 126 (Leaf)\n",
      "                                                             (r) attribute: month value: June gini: 0.4444444444444445\n",
      "                                                                   (l) gini: 0.0 decision: 149 (Leaf)\n",
      "                                                                   (r) gini: 0.0 decision: 170 (Leaf)\n",
      "                         (r) attribute: year value: 1956 gini: 0.9842355740630587\n",
      "                               (l) attribute: month value: January gini: 0.8641975308641971\n",
      "                                     (l) gini: 0.0 decision: 284 (Leaf)\n",
      "                                     (r) attribute: month value: November gini: 0.84375\n",
      "                                           (l) gini: 0.0 decision: 271 (Leaf)\n",
      "                                           (r) attribute: month value: September gini: 0.8163265306122448\n",
      "                                                 (l) gini: 0.0 decision: 355 (Leaf)\n",
      "                                                 (r) attribute: month value: August gini: 0.7777777777777777\n",
      "                                                       (l) gini: 0.0 decision: 405 (Leaf)\n",
      "                                                       (r) attribute: month value: July gini: 0.7199999999999999\n",
      "                                                             (l) gini: 0.0 decision: 413 (Leaf)\n",
      "                                                             (r) attribute: month value: June gini: 0.625\n",
      "                                                                   (l) gini: 0.0 decision: 374 (Leaf)\n",
      "                                                                   (r) attribute: month value: May gini: 0.4444444444444445\n",
      "                                                                         (l) gini: 0.0 decision: 318 (Leaf)\n",
      "                                                                         (r) gini: 0.0 decision: 306 (Leaf)\n",
      "                               (r) attribute: year value: 1954 gini: 0.9829236254456734\n",
      "                                     (l) attribute: month value: November gini: 0.84375\n",
      "                                           (l) gini: 0.0 decision: 203 (Leaf)\n",
      "                                           (r) attribute: month value: August gini: 0.8163265306122448\n",
      "                                                 (l) gini: 0.0 decision: 293 (Leaf)\n",
      "                                                 (r) attribute: month value: January gini: 0.7777777777777777\n",
      "                                                       (l) gini: 0.0 decision: 204 (Leaf)\n",
      "                                                       (r) attribute: month value: March gini: 0.7199999999999999\n",
      "                                                             (l) gini: 0.0 decision: 235 (Leaf)\n",
      "                                                             (r) attribute: month value: July gini: 0.625\n",
      "                                                                   (l) gini: 0.0 decision: 302 (Leaf)\n",
      "                                                                   (r) attribute: month value: June gini: 0.4444444444444444\n",
      "                                                                         (l) gini: 0.0 decision: 264 (Leaf)\n",
      "                                                                         (r) gini: 0.0 decision: 229 (Leaf)\n",
      "                                     (r) attribute: year value: 1953 gini: 0.9822485207100597\n",
      "                                           (l) attribute: month value: January gini: 0.875\n",
      "                                                 (l) gini: 0.0 decision: 196 (Leaf)\n",
      "                                                 (r) attribute: month value: November gini: 0.857142857142857\n",
      "                                                       (l) gini: 0.0 decision: 180 (Leaf)\n",
      "                                                       (r) attribute: month value: October gini: 0.8333333333333333\n",
      "                                                             (l) gini: 0.0 decision: 211 (Leaf)\n",
      "                                                             (r) attribute: month value: August gini: 0.7999999999999998\n",
      "                                                                   (l) gini: 0.0 decision: 272 (Leaf)\n",
      "                                                                   (r) attribute: month value: July gini: 0.75\n",
      "                                                                         (l) gini: 0.0 decision: 264 (Leaf)\n",
      "                                                                         (r) attribute: month value: December gini: 0.6666666666666665\n",
      "                                                                               (l) gini: 0.0 decision: 201 (Leaf)\n",
      "                                                                               (r) attribute: month value: May gini: 0.5\n",
      "                                                                                     (l) gini: 0.0 decision: 229 (Leaf)\n",
      "                                                                                     (r) gini: 0.0 decision: 237 (Leaf)\n",
      "                                           (r) attribute: month value: December gini: 0.9793782702369962\n",
      "                                                 (l) attribute: year value: 1952 gini: 0.8333333333333333\n",
      "                                                       (l) gini: 0.0 decision: 194 (Leaf)\n",
      "                                                       (r) attribute: year value: 1955 gini: 0.7999999999999998\n",
      "                                                             (l) gini: 0.0 decision: 278 (Leaf)\n",
      "                                                             (r) attribute: year value: 1960 gini: 0.75\n",
      "                                                                   (l) gini: 0.0 decision: 432 (Leaf)\n",
      "                                                                   (r) attribute: year value: 1957 gini: 0.6666666666666665\n",
      "                                                                         (l) gini: 0.0 decision: 336 (Leaf)\n",
      "                                                                         (r) attribute: year value: 1958 gini: 0.5\n",
      "                                                                               (l) gini: 0.0 decision: 337 (Leaf)\n",
      "                                                                               (r) gini: 0.0 decision: 405 (Leaf)\n",
      "                                                 (r) attribute: month value: September gini: 0.9765474817377926\n",
      "                                                       (l) attribute: year value: 1952 gini: 0.7999999999999998\n",
      "                                                             (l) gini: 0.0 decision: 209 (Leaf)\n",
      "                                                             (r) attribute: year value: 1960 gini: 0.75\n",
      "                                                                   (l) gini: 0.0 decision: 508 (Leaf)\n",
      "                                                                   (r) attribute: year value: 1955 gini: 0.6666666666666665\n",
      "                                                                         (l) gini: 0.0 decision: 312 (Leaf)\n",
      "                                                                         (r) attribute: year value: 1958 gini: 0.5\n",
      "                                                                               (l) gini: 0.0 decision: 404 (Leaf)\n",
      "                                                                               (r) gini: 0.0 decision: 463 (Leaf)\n",
      "                                                       (r) attribute: month value: July gini: 0.9735349716446142\n",
      "                                                             (l) attribute: year value: 1952 gini: 0.7999999999999998\n",
      "                                                                   (l) gini: 0.0 decision: 230 (Leaf)\n",
      "                                                                   (r) attribute: year value: 1960 gini: 0.75\n",
      "                                                                         (l) gini: 0.0 decision: 622 (Leaf)\n",
      "                                                                         (r) attribute: year value: 1955 gini: 0.6666666666666665\n",
      "                                                                               (l) gini: 0.0 decision: 364 (Leaf)\n",
      "                                                                               (r) attribute: year value: 1957 gini: 0.5\n",
      "                                                                                     (l) gini: 0.0 decision: 465 (Leaf)\n",
      "                                                                                     (r) gini: 0.0 decision: 491 (Leaf)\n",
      "                                                             (r) attribute: month value: February gini: 0.9696609161213574\n",
      "                                                                   (l) attribute: year value: 1955 gini: 0.6666666666666665\n",
      "                                                                         (l) gini: 0.0 decision: 233 (Leaf)\n",
      "                                                                         (r) attribute: year value: 1957 gini: 0.5\n",
      "                                                                               (l) gini: 0.0 decision: 301 (Leaf)\n",
      "                                                                               (r) gini: 0.0 decision: 342 (Leaf)\n",
      "                                                                   (r) attribute: year value: 1958 gini: 0.9667590027700819\n",
      "                                                                         (l) attribute: month value: January gini: 0.857142857142857\n",
      "                                                                               (l) gini: 0.0 decision: 340 (Leaf)\n",
      "                                                                               (r) attribute: month value: November gini: 0.8333333333333333\n",
      "                                                                                     (l) gini: 0.0 decision: 310 (Leaf)\n",
      "                                                                                     (r) attribute: month value: March gini: 0.7999999999999998\n",
      "                                                                                           (l) gini: 0.0 decision: 362 (Leaf)\n",
      "                                                                                           (r) attribute: month value: October gini: 0.75\n",
      "                                                                                                 (l) gini: 0.0 decision: 359 (Leaf)\n",
      "                                                                                                 (r) attribute: month value: June gini: 0.6666666666666665\n",
      "                                                                                                       (l) gini: 0.0 decision: 435 (Leaf)\n",
      "                                                                                                       (r) attribute: month value: May gini: 0.5\n",
      "                                                                                                             (l) gini: 0.0 decision: 363 (Leaf)\n",
      "                                                                                                             (r) gini: 0.0 decision: 505 (Leaf)\n",
      "                                                                         (r) attribute: month value: November gini: 0.9594172736732561\n",
      "                                                                               (l) attribute: year value: 1960 gini: 0.75\n",
      "                                                                                     (l) gini: 0.0 decision: 390 (Leaf)\n",
      "                                                                                     (r) attribute: year value: 1952 gini: 0.6666666666666665\n",
      "                                                                                           (l) gini: 0.0 decision: 172 (Leaf)\n",
      "                                                                                           (r) attribute: year value: 1957 gini: 0.5\n",
      "                                                                                                 (l) gini: 0.0 decision: 305 (Leaf)\n",
      "                                                                                                 (r) gini: 0.0 decision: 362 (Leaf)\n",
      "                                                                               (r) attribute: month value: March gini: 0.9519890260631008\n",
      "                                                                                     (l) attribute: year value: 1952 gini: 0.75\n",
      "                                                                                           (l) gini: 0.0 decision: 193 (Leaf)\n",
      "                                                                                           (r) attribute: year value: 1955 gini: 0.6666666666666665\n",
      "                                                                                                 (l) gini: 0.0 decision: 267 (Leaf)\n",
      "                                                                                                 (r) attribute: year value: 1957 gini: 0.5\n",
      "                                                                                                       (l) gini: 0.0 decision: 356 (Leaf)\n",
      "                                                                                                       (r) gini: 0.0 decision: 406 (Leaf)\n",
      "                                                                                     (r) attribute: year value: 1960 gini: 0.9413988657844989\n",
      "                                                                                           (l) attribute: month value: January gini: 0.7999999999999998\n",
      "                                                                                                 (l) gini: 0.0 decision: 417 (Leaf)\n",
      "                                                                                                 (r) attribute: month value: October gini: 0.75\n",
      "                                                                                                       (l) gini: 0.0 decision: 461 (Leaf)\n",
      "                                                                                                       (r) attribute: month value: June gini: 0.6666666666666665\n",
      "                                                                                                             (l) gini: 0.0 decision: 535 (Leaf)\n",
      "                                                                                                             (r) attribute: month value: May gini: 0.5\n",
      "                                                                                                                   (l) gini: 0.0 decision: 472 (Leaf)\n",
      "                                                                                                                   (r) gini: 0.0 decision: 606 (Leaf)\n",
      "                                                                                           (r) attribute: year value: 1959 gini: 0.9259259259259256\n",
      "                                                                                                 (l) attribute: month value: October gini: 0.75\n",
      "                                                                                                       (l) gini: 0.0 decision: 407 (Leaf)\n",
      "                                                                                                       (r) attribute: month value: June gini: 0.6666666666666665\n",
      "                                                                                                             (l) gini: 0.0 decision: 472 (Leaf)\n",
      "                                                                                                             (r) attribute: month value: May gini: 0.5\n",
      "                                                                                                                   (l) gini: 0.0 decision: 420 (Leaf)\n",
      "                                                                                                                   (r) gini: 0.0 decision: 559 (Leaf)\n",
      "                                                                                                 (r) attribute: month value: May gini: 0.8979591836734697\n",
      "                                                                                                       (l) attribute: year value: 1952 gini: 0.6666666666666665\n",
      "                                                                                                             (l) gini: 0.0 decision: 183 (Leaf)\n",
      "                                                                                                             (r) attribute: year value: 1955 gini: 0.5\n",
      "                                                                                                                   (l) gini: 0.0 decision: 270 (Leaf)\n",
      "                                                                                                                   (r) gini: 0.0 decision: 355 (Leaf)\n",
      "                                                                                                       (r) attribute: year value: 1952 gini: 0.8595041322314051\n",
      "                                                                                                             (l) attribute: month value: October gini: 0.6666666666666665\n",
      "                                                                                                                   (l) gini: 0.0 decision: 191 (Leaf)\n",
      "                                                                                                                   (r) attribute: month value: June gini: 0.5\n",
      "                                                                                                                         (l) gini: 0.0 decision: 218 (Leaf)\n",
      "                                                                                                                         (r) gini: 0.0 decision: 242 (Leaf)\n",
      "                                                                                                             (r) attribute: month value: June gini: 0.8125\n",
      "                                                                                                                   (l) attribute: year value: 1955 gini: 0.5\n",
      "                                                                                                                         (l) gini: 0.0 decision: 315 (Leaf)\n",
      "                                                                                                                         (r) gini: 0.0 decision: 422 (Leaf)\n",
      "                                                                                                                   (r) attribute: month value: January gini: 0.7777777777777777\n",
      "                                                                                                                         (l) attribute: year value: 1955 gini: 0.5\n",
      "                                                                                                                               (l) gini: 0.0 decision: 242 (Leaf)\n",
      "                                                                                                                               (r) gini: 0.0 decision: 315 (Leaf)\n",
      "                                                                                                                         (r) attribute: year value: 1955 gini: 0.625\n",
      "                                                                                                                               (l) attribute: month value: October gini: 0.5\n",
      "                                                                                                                                     (l) gini: 0.0 decision: 274 (Leaf)\n",
      "                                                                                                                                     (r) gini: 0.0 decision: 347 (Leaf)\n",
      "                                                                                                                               (r) attribute: month value: October gini: 0.5\n",
      "                                                                                                                                     (l) gini: 0.0 decision: 347 (Leaf)\n",
      "                                                                                                                                     (r) gini: 0.0 decision: 467 (Leaf)\n"
     ]
    }
   ],
   "source": [
    "flights_tree.print_tree()"
   ]
  },
  {
   "cell_type": "code",
   "execution_count": null,
   "metadata": {},
   "outputs": [],
   "source": []
  },
  {
   "cell_type": "code",
   "execution_count": null,
   "metadata": {},
   "outputs": [],
   "source": []
  },
  {
   "cell_type": "code",
   "execution_count": null,
   "metadata": {},
   "outputs": [],
   "source": []
  },
  {
   "cell_type": "code",
   "execution_count": null,
   "metadata": {},
   "outputs": [],
   "source": []
  },
  {
   "cell_type": "code",
   "execution_count": null,
   "metadata": {},
   "outputs": [],
   "source": []
  }
 ],
 "metadata": {
  "kernelspec": {
   "display_name": "Python 3",
   "language": "python",
   "name": "python3"
  },
  "language_info": {
   "codemirror_mode": {
    "name": "ipython",
    "version": 3
   },
   "file_extension": ".py",
   "mimetype": "text/x-python",
   "name": "python",
   "nbconvert_exporter": "python",
   "pygments_lexer": "ipython3",
   "version": "3.6.8"
  }
 },
 "nbformat": 4,
 "nbformat_minor": 4
}
